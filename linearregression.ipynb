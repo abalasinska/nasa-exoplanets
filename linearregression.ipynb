{
 "cells": [
  {
   "cell_type": "code",
   "execution_count": null,
   "metadata": {},
   "outputs": [],
   "source": [
    "import pandas as pd\n",
    "import matplotlib.pyplot as plt\n",
    "from sklearn.linear_model import LinearRegression"
   ]
  },
  {
   "cell_type": "code",
   "execution_count": null,
   "metadata": {},
   "outputs": [],
   "source": [
    "# zaciągamy dane do pandasowego DataFrame (trzeba najpierw uruchomić serwer z API)\n",
    "url = \"http://127.0.0.1:8000/plmass?limit=1000\"\n",
    "data = pd.read_json(url)\n",
    "data # DataFrame"
   ]
  },
  {
   "cell_type": "code",
   "execution_count": null,
   "metadata": {},
   "outputs": [],
   "source": [
    "# usuwamy wybrakowane dane\n",
    "data = data.dropna()\n",
    "# wyświetlamy podstawowe miary statystyczne pozostałego datasetu\n",
    "data.describe()"
   ]
  },
  {
   "cell_type": "code",
   "execution_count": null,
   "metadata": {},
   "outputs": [],
   "source": [
    "# regresja liniowa wymaga podania wektorów x oraz y, więc dzielimy sobie DataFrame\n",
    "y = data[\"pl_masse\"]\n",
    "x = data.drop(columns=[\"pl_masse\"])\n",
    "# można wyświetlić poszczególne wektory, by sprawdzić, czy wszystko gra\n",
    "# x\n",
    "y"
   ]
  },
  {
   "cell_type": "code",
   "execution_count": null,
   "metadata": {},
   "outputs": [],
   "source": [
    "# tworzymy wykres punktowy pokazujący zależności w naszym datasecie\n",
    "plt.xlabel(\"temperatura gwiazdy\")\n",
    "plt.ylabel(\"masa planety\")\n",
    "plt.scatter(x, y)"
   ]
  },
  {
   "cell_type": "code",
   "execution_count": null,
   "metadata": {},
   "outputs": [],
   "source": [
    "# a to całe uczenie maszynowe :) \n",
    "# METODA (bo zmienna model to instancja klasy LinearRegression) fit odpowiada za cały proces uczenia/treningu\n",
    "model = LinearRegression()\n",
    "model.fit(x, y)"
   ]
  },
  {
   "cell_type": "code",
   "execution_count": null,
   "metadata": {},
   "outputs": [],
   "source": [
    "# teraz możemy używać modelu do predykcji masy planet na podstawie podanych temperatur gwiazd (poniżej)\n",
    "model.predict([[2960], [5000]])"
   ]
  },
  {
   "cell_type": "code",
   "execution_count": null,
   "metadata": {},
   "outputs": [],
   "source": [
    "# rysujemy funkcję na podstawie naszego modelu (modelem są współczynniki a i b, z nich budujemy funkcję liniową)\n",
    "# ona pokaże nam potencjalne patologie modelu (np. dla jakich temperatur zwróci ujemne masy)\n",
    "plt.plot(x, model.predict(x), color=\"red\")"
   ]
  },
  {
   "cell_type": "code",
   "execution_count": null,
   "metadata": {},
   "outputs": [],
   "source": [
    "# R^2 - współczynnik jakości modelu, bliskie 0 to model do ****\n",
    "r_sq = model.score(x,y)\n",
    "r_sq"
   ]
  }
 ],
 "metadata": {
  "kernelspec": {
   "display_name": "nasa-exoplanets-ZZpgJHHs-py3.11",
   "language": "python",
   "name": "python3"
  },
  "language_info": {
   "codemirror_mode": {
    "name": "ipython",
    "version": 3
   },
   "file_extension": ".py",
   "mimetype": "text/x-python",
   "name": "python",
   "nbconvert_exporter": "python",
   "pygments_lexer": "ipython3",
   "version": "3.11.6"
  }
 },
 "nbformat": 4,
 "nbformat_minor": 2
}
